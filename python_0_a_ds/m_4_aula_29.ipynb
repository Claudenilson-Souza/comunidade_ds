{
 "cells": [
  {
   "cell_type": "markdown",
   "id": "45e62ca3",
   "metadata": {},
   "source": [
    "## resolução dos exercicios"
   ]
  },
  {
   "cell_type": "code",
   "execution_count": 16,
   "id": "3b8ab0ff",
   "metadata": {
    "ExecuteTime": {
     "end_time": "2022-06-02T18:44:14.491449Z",
     "start_time": "2022-06-02T18:44:14.461530Z"
    }
   },
   "outputs": [
    {
     "ename": "ModuleNotFoundError",
     "evalue": "No module named 'geopy'",
     "output_type": "error",
     "traceback": [
      "\u001b[1;31m---------------------------------------------------------------------------\u001b[0m",
      "\u001b[1;31mModuleNotFoundError\u001b[0m                       Traceback (most recent call last)",
      "Input \u001b[1;32mIn [16]\u001b[0m, in \u001b[0;36m<cell line: 2>\u001b[1;34m()\u001b[0m\n\u001b[0;32m      1\u001b[0m \u001b[38;5;28;01mimport\u001b[39;00m \u001b[38;5;21;01mpandas\u001b[39;00m \u001b[38;5;28;01mas\u001b[39;00m \u001b[38;5;21;01mpd\u001b[39;00m\n\u001b[1;32m----> 2\u001b[0m \u001b[38;5;28;01mfrom\u001b[39;00m \u001b[38;5;21;01mgeopy\u001b[39;00m\u001b[38;5;21;01m.\u001b[39;00m\u001b[38;5;21;01mgeocoders\u001b[39;00m \u001b[38;5;28;01mimport\u001b[39;00m Nominatim\n\u001b[0;32m      3\u001b[0m \u001b[38;5;28;01mfrom\u001b[39;00m \u001b[38;5;21;01mmatplotlib\u001b[39;00m \u001b[38;5;28;01mimport\u001b[39;00m pyplot \u001b[38;5;28;01mas\u001b[39;00m plt\n\u001b[0;32m      4\u001b[0m \u001b[38;5;28;01mfrom\u001b[39;00m \u001b[38;5;21;01mmatplotlib\u001b[39;00m \u001b[38;5;28;01mimport\u001b[39;00m gridspec\n",
      "\u001b[1;31mModuleNotFoundError\u001b[0m: No module named 'geopy'"
     ]
    }
   ],
   "source": [
    "import pandas as pd\n",
    "from geopy.geocoders import Nominatim\n",
    "from matplotlib import pyplot as plt\n",
    "from matplotlib import gridspec\n",
    "import plotly.express as px\n",
    "import seaborn as sns\n",
    "import ipywidgets as widgets\n",
    "from ipywidgets import fixed\n",
    "import time\n",
    "from multiprocessing import Pool\n",
    "\n",
    "pd.set_option('display.float_format',lambda x: '%.2f' % x)\n"
   ]
  },
  {
   "cell_type": "markdown",
   "id": "075b8350",
   "metadata": {},
   "source": [
    "# questão 1"
   ]
  },
  {
   "cell_type": "markdown",
   "id": "57cf88e4",
   "metadata": {},
   "source": [
    "#Qual a média do preço de compra dos imóveis por “Nível”? - Nível 0 -> Preço entre R$ 0\n",
    "#e R$ 321.950 - Nível 1 -> Preço entre R$ 321.950 e R$ 450.000 - Nível 2 -> Preço entre R$\n",
    "#450.000 e R$ 645.000 - Nível 3 -> Acima de R$ 645.000\n"
   ]
  },
  {
   "cell_type": "code",
   "execution_count": null,
   "id": "1a6950c7",
   "metadata": {
    "ExecuteTime": {
     "end_time": "2022-06-02T18:43:44.985328Z",
     "start_time": "2022-06-02T18:43:44.985328Z"
    }
   },
   "outputs": [],
   "source": [
    "data =pd.read_csv ('dataset/house_geo.csv')"
   ]
  },
  {
   "cell_type": "markdown",
   "id": "555f5752",
   "metadata": {
    "ExecuteTime": {
     "end_time": "2022-05-02T09:26:23.336240Z",
     "start_time": "2022-05-02T09:26:20.514681Z"
    }
   },
   "source": [
    "for i in range( len(data)):\n",
    "    \n",
    "    if (data.loc[i,'price'] > 0) & (data.loc[i,'price'] < 321950 ):\n",
    "        data.loc[i,'nivel']='nivel_0'\n",
    "    elif (data.loc[i,'price'] > 321950) & (data.loc[i,'price'] < 450000 ):\n",
    "        data.loc[i,'nivel']='nivel_1'\n",
    "    elif (data.loc[i,'price'] > 450000) & (data.loc[i,'price'] < 645000 ):\n",
    "        data.loc[i,'nivel']='nivel_2' \n",
    "    else :\n",
    "        data.loc[i,'nivel']='nivel_3'\n"
   ]
  },
  {
   "cell_type": "code",
   "execution_count": null,
   "id": "908b6129",
   "metadata": {
    "ExecuteTime": {
     "end_time": "2022-06-02T18:43:44.990307Z",
     "start_time": "2022-06-02T18:43:44.990307Z"
    }
   },
   "outputs": [],
   "source": [
    "data['nivel'] = data['price'].apply( lambda x: \n",
    "                                    'nivel_0' if (x >=0) & (x <= 321950) else\n",
    "                                    'nivel_1' if ( x > 321950 ) & ( x <=450000 )\n",
    "                                    else 'nivel_2' if ( x > 450000 ) & ( x<=645000 ) \n",
    "                                    else 'nivel_3' )"
   ]
  },
  {
   "cell_type": "code",
   "execution_count": null,
   "id": "70a64cac",
   "metadata": {
    "ExecuteTime": {
     "end_time": "2022-06-02T18:43:44.995293Z",
     "start_time": "2022-06-02T18:43:44.995293Z"
    }
   },
   "outputs": [],
   "source": [
    "buy_price_mean= data[['nivel','price']].groupby('nivel').mean().reset_index()\n",
    "print('preco médio de compra é {}'.format(buy_price_mean))"
   ]
  },
  {
   "cell_type": "markdown",
   "id": "92558eda",
   "metadata": {},
   "source": [
    "# questão 2"
   ]
  },
  {
   "cell_type": "code",
   "execution_count": null,
   "id": "9529b860",
   "metadata": {
    "ExecuteTime": {
     "end_time": "2022-06-02T18:43:44.997288Z",
     "start_time": "2022-06-02T18:43:44.997288Z"
    }
   },
   "outputs": [],
   "source": [
    "Qual a média do tamanho da sala de estar dos imóveis por “Size” ? - Size 0 -> Tamanho\n",
    "entre 0 e 1427 sqft - Size 1 -> Tamanho entre 1427 e 1910 sqft - Size 2 -> Tamanho entre\n",
    "1910 e 2550 sqft - Size 3 -> Tamanho acima de 2550 sqf"
   ]
  },
  {
   "cell_type": "code",
   "execution_count": 2,
   "id": "0f77f0f7",
   "metadata": {
    "ExecuteTime": {
     "end_time": "2022-06-02T18:43:45.036184Z",
     "start_time": "2022-06-02T18:43:45.003272Z"
    }
   },
   "outputs": [
    {
     "ename": "NameError",
     "evalue": "name 'data' is not defined",
     "output_type": "error",
     "traceback": [
      "\u001b[1;31m---------------------------------------------------------------------------\u001b[0m",
      "\u001b[1;31mNameError\u001b[0m                                 Traceback (most recent call last)",
      "Input \u001b[1;32mIn [2]\u001b[0m, in \u001b[0;36m<cell line: 1>\u001b[1;34m()\u001b[0m\n\u001b[1;32m----> 1\u001b[0m \u001b[38;5;28;01mfor\u001b[39;00m i \u001b[38;5;129;01min\u001b[39;00m \u001b[38;5;28mrange\u001b[39m (\u001b[38;5;28mlen\u001b[39m(\u001b[43mdata\u001b[49m)):\n\u001b[0;32m      2\u001b[0m     \u001b[38;5;28;01mif\u001b[39;00m (data\u001b[38;5;241m.\u001b[39mloc[i,\u001b[38;5;124m'\u001b[39m\u001b[38;5;124msqft_living\u001b[39m\u001b[38;5;124m'\u001b[39m] \u001b[38;5;241m>\u001b[39m \u001b[38;5;241m0\u001b[39m) \u001b[38;5;241m&\u001b[39m (data\u001b[38;5;241m.\u001b[39mloc[i,\u001b[38;5;124m'\u001b[39m\u001b[38;5;124msqft_living\u001b[39m\u001b[38;5;124m'\u001b[39m] \u001b[38;5;241m<\u001b[39m \u001b[38;5;241m1427\u001b[39m):\n\u001b[0;32m      4\u001b[0m         data\u001b[38;5;241m.\u001b[39mloc[i,\u001b[38;5;124m'\u001b[39m\u001b[38;5;124msize\u001b[39m\u001b[38;5;124m'\u001b[39m]\u001b[38;5;241m=\u001b[39m \u001b[38;5;124m'\u001b[39m\u001b[38;5;124msize_0\u001b[39m\u001b[38;5;124m'\u001b[39m\n",
      "\u001b[1;31mNameError\u001b[0m: name 'data' is not defined"
     ]
    }
   ],
   "source": [
    "for i in range (len(data)):\n",
    "    if (data.loc[i,'sqft_living'] > 0) & (data.loc[i,'sqft_living'] < 1427):\n",
    "        \n",
    "        data.loc[i,'size']= 'size_0'\n",
    "    \n",
    "    elif (data.loc[i,'sqft_living'] > 1427) & (data.loc[i,'sqft_living'] < 1910):\n",
    "        \n",
    "        data.loc[i,'size']= 'size_1'\n",
    "    \n",
    "    elif (data.loc[i,'sqft_living'] > 1910) & (data.loc[i,'sqft_living'] < 2550):\n",
    "        \n",
    "        data.loc[i,'size']= 'size_2'\n",
    "        \n",
    "    else:\n",
    "        data.loc[i,'size']= 'size_3'"
   ]
  },
  {
   "cell_type": "code",
   "execution_count": 3,
   "id": "21860d4e",
   "metadata": {
    "ExecuteTime": {
     "end_time": "2022-06-02T18:43:45.179076Z",
     "start_time": "2022-06-02T18:43:45.149029Z"
    }
   },
   "outputs": [
    {
     "ename": "NameError",
     "evalue": "name 'data' is not defined",
     "output_type": "error",
     "traceback": [
      "\u001b[1;31m---------------------------------------------------------------------------\u001b[0m",
      "\u001b[1;31mNameError\u001b[0m                                 Traceback (most recent call last)",
      "Input \u001b[1;32mIn [3]\u001b[0m, in \u001b[0;36m<cell line: 1>\u001b[1;34m()\u001b[0m\n\u001b[1;32m----> 1\u001b[0m price_mean_liveroom \u001b[38;5;241m=\u001b[39m \u001b[43mdata\u001b[49m[[\u001b[38;5;124m'\u001b[39m\u001b[38;5;124mprice\u001b[39m\u001b[38;5;124m'\u001b[39m, \u001b[38;5;124m'\u001b[39m\u001b[38;5;124msize\u001b[39m\u001b[38;5;124m'\u001b[39m]]\u001b[38;5;241m.\u001b[39mgroupby(\u001b[38;5;124m'\u001b[39m\u001b[38;5;124msize\u001b[39m\u001b[38;5;124m'\u001b[39m)\u001b[38;5;241m.\u001b[39mmean()\u001b[38;5;241m.\u001b[39mreset_index()\n\u001b[0;32m      2\u001b[0m \u001b[38;5;28mprint\u001b[39m(\u001b[38;5;124m\"\u001b[39m\u001b[38;5;124mo preço médio de venda pelo tamanho da salas é \u001b[39m\u001b[38;5;132;01m{}\u001b[39;00m\u001b[38;5;124m\"\u001b[39m\u001b[38;5;241m.\u001b[39mformat(price_mean_liveroom))\n",
      "\u001b[1;31mNameError\u001b[0m: name 'data' is not defined"
     ]
    }
   ],
   "source": [
    "price_mean_liveroom = data[['price', 'size']].groupby('size').mean().reset_index()\n",
    "print(\"o preço médio de venda pelo tamanho da salas é {}\".format(price_mean_liveroom))"
   ]
  },
  {
   "cell_type": "markdown",
   "id": "166ef40d",
   "metadata": {},
   "source": [
    "# questão 3"
   ]
  },
  {
   "cell_type": "code",
   "execution_count": 4,
   "id": "92195bba",
   "metadata": {
    "ExecuteTime": {
     "end_time": "2022-06-02T18:43:45.462820Z",
     "start_time": "2022-06-02T18:43:45.451847Z"
    }
   },
   "outputs": [
    {
     "ename": "SyntaxError",
     "evalue": "invalid syntax (4233782614.py, line 1)",
     "output_type": "error",
     "traceback": [
      "\u001b[1;36m  Input \u001b[1;32mIn [4]\u001b[1;36m\u001b[0m\n\u001b[1;33m    Adicione as seguinte informações ao conjunto de dados original: - Place ID: Identificação da\u001b[0m\n\u001b[1;37m             ^\u001b[0m\n\u001b[1;31mSyntaxError\u001b[0m\u001b[1;31m:\u001b[0m invalid syntax\n"
     ]
    }
   ],
   "source": [
    "Adicione as seguinte informações ao conjunto de dados original: - Place ID: Identificação da\n",
    "localização - OSM Type: Open Street Map type - Country: Nome do País - Country Code:\n",
    "Código do País"
   ]
  },
  {
   "cell_type": "code",
   "execution_count": 5,
   "id": "5bfff415",
   "metadata": {
    "ExecuteTime": {
     "end_time": "2022-06-02T18:43:45.635519Z",
     "start_time": "2022-06-02T18:43:45.618564Z"
    }
   },
   "outputs": [
    {
     "ename": "NameError",
     "evalue": "name 'data' is not defined",
     "output_type": "error",
     "traceback": [
      "\u001b[1;31m---------------------------------------------------------------------------\u001b[0m",
      "\u001b[1;31mNameError\u001b[0m                                 Traceback (most recent call last)",
      "Input \u001b[1;32mIn [5]\u001b[0m, in \u001b[0;36m<cell line: 1>\u001b[1;34m()\u001b[0m\n\u001b[1;32m----> 1\u001b[0m \u001b[43mdata\u001b[49m[[\u001b[38;5;124m'\u001b[39m\u001b[38;5;124mlat\u001b[39m\u001b[38;5;124m'\u001b[39m,\u001b[38;5;124m'\u001b[39m\u001b[38;5;124mlong\u001b[39m\u001b[38;5;124m'\u001b[39m]]\u001b[38;5;241m.\u001b[39mhead()\n",
      "\u001b[1;31mNameError\u001b[0m: name 'data' is not defined"
     ]
    }
   ],
   "source": [
    "data[['lat','long']].head()"
   ]
  },
  {
   "cell_type": "code",
   "execution_count": 6,
   "id": "05195b0a",
   "metadata": {
    "ExecuteTime": {
     "end_time": "2022-06-02T18:43:46.149299Z",
     "start_time": "2022-06-02T18:43:46.131347Z"
    }
   },
   "outputs": [
    {
     "ename": "NameError",
     "evalue": "name 'Nominatim' is not defined",
     "output_type": "error",
     "traceback": [
      "\u001b[1;31m---------------------------------------------------------------------------\u001b[0m",
      "\u001b[1;31mNameError\u001b[0m                                 Traceback (most recent call last)",
      "Input \u001b[1;32mIn [6]\u001b[0m, in \u001b[0;36m<cell line: 1>\u001b[1;34m()\u001b[0m\n\u001b[1;32m----> 1\u001b[0m geolocator \u001b[38;5;241m=\u001b[39m \u001b[43mNominatim\u001b[49m ( user_agent\u001b[38;5;241m=\u001b[39m\u001b[38;5;124m'\u001b[39m\u001b[38;5;124mgeopyExercises\u001b[39m\u001b[38;5;124m'\u001b[39m)\n\u001b[0;32m      3\u001b[0m query\u001b[38;5;241m=\u001b[39m \u001b[38;5;124m'\u001b[39m\u001b[38;5;124m47.5112\u001b[39m\u001b[38;5;124m'\u001b[39m,\u001b[38;5;124m'\u001b[39m\u001b[38;5;124m-122.257\u001b[39m\u001b[38;5;124m'\u001b[39m\n\u001b[0;32m      4\u001b[0m response \u001b[38;5;241m=\u001b[39m geolocator\u001b[38;5;241m.\u001b[39mreverse (query)\n",
      "\u001b[1;31mNameError\u001b[0m: name 'Nominatim' is not defined"
     ]
    }
   ],
   "source": [
    "geolocator = Nominatim ( user_agent='geopyExercises')\n",
    "\n",
    "query= '47.5112','-122.257'\n",
    "response = geolocator.reverse (query)\n",
    "\n"
   ]
  },
  {
   "cell_type": "code",
   "execution_count": 7,
   "id": "1a68b909",
   "metadata": {
    "ExecuteTime": {
     "end_time": "2022-06-02T18:43:46.586360Z",
     "start_time": "2022-06-02T18:43:46.562396Z"
    }
   },
   "outputs": [
    {
     "ename": "NameError",
     "evalue": "name 'response' is not defined",
     "output_type": "error",
     "traceback": [
      "\u001b[1;31m---------------------------------------------------------------------------\u001b[0m",
      "\u001b[1;31mNameError\u001b[0m                                 Traceback (most recent call last)",
      "Input \u001b[1;32mIn [7]\u001b[0m, in \u001b[0;36m<cell line: 1>\u001b[1;34m()\u001b[0m\n\u001b[1;32m----> 1\u001b[0m \u001b[43mresponse\u001b[49m\u001b[38;5;241m.\u001b[39mraw\n",
      "\u001b[1;31mNameError\u001b[0m: name 'response' is not defined"
     ]
    }
   ],
   "source": [
    "response.raw"
   ]
  },
  {
   "cell_type": "code",
   "execution_count": 8,
   "id": "9c8e8ec1",
   "metadata": {
    "ExecuteTime": {
     "end_time": "2022-06-02T18:43:47.071599Z",
     "start_time": "2022-06-02T18:43:47.050654Z"
    }
   },
   "outputs": [
    {
     "ename": "NameError",
     "evalue": "name 'response' is not defined",
     "output_type": "error",
     "traceback": [
      "\u001b[1;31m---------------------------------------------------------------------------\u001b[0m",
      "\u001b[1;31mNameError\u001b[0m                                 Traceback (most recent call last)",
      "Input \u001b[1;32mIn [8]\u001b[0m, in \u001b[0;36m<cell line: 1>\u001b[1;34m()\u001b[0m\n\u001b[1;32m----> 1\u001b[0m \u001b[43mresponse\u001b[49m\u001b[38;5;241m.\u001b[39mraw[\u001b[38;5;124m'\u001b[39m\u001b[38;5;124maddress\u001b[39m\u001b[38;5;124m'\u001b[39m][\u001b[38;5;124m'\u001b[39m\u001b[38;5;124mhouse_number\u001b[39m\u001b[38;5;124m'\u001b[39m]\n",
      "\u001b[1;31mNameError\u001b[0m: name 'response' is not defined"
     ]
    }
   ],
   "source": [
    "response.raw['address']['house_number']"
   ]
  },
  {
   "cell_type": "code",
   "execution_count": 9,
   "id": "05800f9a",
   "metadata": {
    "ExecuteTime": {
     "end_time": "2022-06-02T18:43:47.509424Z",
     "start_time": "2022-06-02T18:43:47.498453Z"
    }
   },
   "outputs": [],
   "source": [
    "#parallelism\n",
    "\n",
    "#multi-thread \n",
    "#(quebra a tarefa em varais partes(pode rodar em diferentes cores))\n",
    "#por ordem, ordem importa\n",
    "\n",
    "\n",
    "#Async\n",
    "\n",
    "#roda as tarefas sem sincronismo, sao idependentes\n",
    "#ordem nao importa"
   ]
  },
  {
   "cell_type": "code",
   "execution_count": 10,
   "id": "7cbb0a42",
   "metadata": {
    "ExecuteTime": {
     "end_time": "2022-06-02T18:43:47.963846Z",
     "start_time": "2022-06-02T18:43:47.945896Z"
    }
   },
   "outputs": [],
   "source": [
    "#def get_dat (x):\n",
    "#    index, row =  x\n",
    "#    time.sleep(2)\n",
    "#    \n",
    "#    response=geolocator.reverser(row['query'])\n",
    "#    \n",
    "#   try:\n",
    "#        place_id = response.raw['place_id'] if 'place_id' in response.raw \n",
    "#        else  'NA'\n",
    "#        osm_type = response.raw['osm_type'] if 'osm_type' in response.raw \n",
    "#        else 'NA'\n",
    "#\n",
    "#        country = address['country'] if 'country' in address else 'NA'\n",
    "#        country_code = address['country_code'] if 'country_code' in address \n",
    "#        else 'NA'\n",
    "#\n",
    "#        return place_id, osm_type, country, country_code\n",
    "#\n",
    "#        except:\n",
    "#        return None, None, None, None"
   ]
  },
  {
   "cell_type": "code",
   "execution_count": 11,
   "id": "1635ed86",
   "metadata": {
    "ExecuteTime": {
     "end_time": "2022-06-02T18:43:48.352484Z",
     "start_time": "2022-06-02T18:43:48.291941Z"
    },
    "scrolled": true
   },
   "outputs": [
    {
     "ename": "ModuleNotFoundError",
     "evalue": "No module named 'geopy'",
     "output_type": "error",
     "traceback": [
      "\u001b[1;31m---------------------------------------------------------------------------\u001b[0m",
      "\u001b[1;31mModuleNotFoundError\u001b[0m                       Traceback (most recent call last)",
      "Input \u001b[1;32mIn [11]\u001b[0m, in \u001b[0;36m<cell line: 1>\u001b[1;34m()\u001b[0m\n\u001b[1;32m----> 1\u001b[0m \u001b[38;5;28;01mimport\u001b[39;00m \u001b[38;5;21;01mdefs\u001b[39;00m\n\u001b[0;32m      3\u001b[0m data[\u001b[38;5;124m'\u001b[39m\u001b[38;5;124mquery\u001b[39m\u001b[38;5;124m'\u001b[39m] \u001b[38;5;241m=\u001b[39m data[[\u001b[38;5;124m'\u001b[39m\u001b[38;5;124mlat\u001b[39m\u001b[38;5;124m'\u001b[39m, \u001b[38;5;124m'\u001b[39m\u001b[38;5;124mlong\u001b[39m\u001b[38;5;124m'\u001b[39m]]\u001b[38;5;241m.\u001b[39mapply( \u001b[38;5;28;01mlambda\u001b[39;00m x: \u001b[38;5;28mstr\u001b[39m( x[\u001b[38;5;124m'\u001b[39m\u001b[38;5;124mlat\u001b[39m\u001b[38;5;124m'\u001b[39m] ) \u001b[38;5;241m+\u001b[39m \n\u001b[0;32m      4\u001b[0m                                             \u001b[38;5;124m'\u001b[39m\u001b[38;5;124m,\u001b[39m\u001b[38;5;124m'\u001b[39m \n\u001b[0;32m      5\u001b[0m                                             \u001b[38;5;241m+\u001b[39m\u001b[38;5;28mstr\u001b[39m( x[\u001b[38;5;124m'\u001b[39m\u001b[38;5;124mlong\u001b[39m\u001b[38;5;124m'\u001b[39m] ), axis\u001b[38;5;241m=\u001b[39m\u001b[38;5;241m1\u001b[39m )\n\u001b[0;32m      6\u001b[0m df1 \u001b[38;5;241m=\u001b[39m data[[\u001b[38;5;124m'\u001b[39m\u001b[38;5;124mid\u001b[39m\u001b[38;5;124m'\u001b[39m, \u001b[38;5;124m'\u001b[39m\u001b[38;5;124mquery\u001b[39m\u001b[38;5;124m'\u001b[39m]]\u001b[38;5;241m.\u001b[39msample(\u001b[38;5;241m10\u001b[39m)\n",
      "File \u001b[1;32m~\\Desktop\\DS\\python_0_a_ds\\defs.py:2\u001b[0m, in \u001b[0;36m<module>\u001b[1;34m\u001b[0m\n\u001b[0;32m      1\u001b[0m \u001b[38;5;28;01mimport\u001b[39;00m \u001b[38;5;21;01mtime\u001b[39;00m\n\u001b[1;32m----> 2\u001b[0m \u001b[38;5;28;01mfrom\u001b[39;00m \u001b[38;5;21;01mgeopy\u001b[39;00m\u001b[38;5;21;01m.\u001b[39;00m\u001b[38;5;21;01mgeocoders\u001b[39;00m \u001b[38;5;28;01mimport\u001b[39;00m Nominatim\n\u001b[0;32m      4\u001b[0m geolocator \u001b[38;5;241m=\u001b[39m Nominatim(user_agent\u001b[38;5;241m=\u001b[39m\u001b[38;5;124m'\u001b[39m\u001b[38;5;124mgeopyExercises\u001b[39m\u001b[38;5;124m'\u001b[39m)\n\u001b[0;32m      6\u001b[0m \u001b[38;5;28;01mdef\u001b[39;00m \u001b[38;5;21mget_data\u001b[39m (x):\n",
      "\u001b[1;31mModuleNotFoundError\u001b[0m: No module named 'geopy'"
     ]
    }
   ],
   "source": [
    "import defs\n",
    "\n",
    "data['query'] = data[['lat', 'long']].apply( lambda x: str( x['lat'] ) + \n",
    "                                            ',' \n",
    "                                            +str( x['long'] ), axis=1 )\n",
    "df1 = data[['id', 'query']].sample(10)\n",
    "p = Pool(2)\n",
    "start = time.process_time()\n",
    "df1[['place_id', 'osm_type', 'country', 'country_code']] = p.map(defs.get_data, df1.iterrows() )\n",
    "end = time.process_time()\n",
    "\n",
    "print(' time{}',end - start)"
   ]
  },
  {
   "cell_type": "code",
   "execution_count": 12,
   "id": "601cc95d",
   "metadata": {
    "ExecuteTime": {
     "end_time": "2022-06-02T18:43:48.539767Z",
     "start_time": "2022-06-02T18:43:48.514832Z"
    }
   },
   "outputs": [
    {
     "ename": "NameError",
     "evalue": "name 'df1' is not defined",
     "output_type": "error",
     "traceback": [
      "\u001b[1;31m---------------------------------------------------------------------------\u001b[0m",
      "\u001b[1;31mNameError\u001b[0m                                 Traceback (most recent call last)",
      "Input \u001b[1;32mIn [12]\u001b[0m, in \u001b[0;36m<cell line: 1>\u001b[1;34m()\u001b[0m\n\u001b[1;32m----> 1\u001b[0m \u001b[43mdf1\u001b[49m\u001b[38;5;241m.\u001b[39mhead()\n",
      "\u001b[1;31mNameError\u001b[0m: name 'df1' is not defined"
     ]
    }
   ],
   "source": [
    "df1.head()"
   ]
  },
  {
   "cell_type": "code",
   "execution_count": 13,
   "id": "951f430c",
   "metadata": {
    "ExecuteTime": {
     "end_time": "2022-06-02T18:43:48.998299Z",
     "start_time": "2022-06-02T18:43:48.970197Z"
    }
   },
   "outputs": [
    {
     "ename": "NameError",
     "evalue": "name 'df1' is not defined",
     "output_type": "error",
     "traceback": [
      "\u001b[1;31m---------------------------------------------------------------------------\u001b[0m",
      "\u001b[1;31mNameError\u001b[0m                                 Traceback (most recent call last)",
      "Input \u001b[1;32mIn [13]\u001b[0m, in \u001b[0;36m<cell line: 1>\u001b[1;34m()\u001b[0m\n\u001b[1;32m----> 1\u001b[0m \u001b[43mdf1\u001b[49m\u001b[38;5;241m.\u001b[39mto_csv(\u001b[38;5;124m'\u001b[39m\u001b[38;5;124mdataset/kc_2.csv\u001b[39m\u001b[38;5;124m'\u001b[39m)\n",
      "\u001b[1;31mNameError\u001b[0m: name 'df1' is not defined"
     ]
    }
   ],
   "source": [
    "df1.to_csv('dataset/kc_2.csv')"
   ]
  },
  {
   "cell_type": "markdown",
   "id": "e5e444ee",
   "metadata": {},
   "source": [
    "# questão 4"
   ]
  },
  {
   "cell_type": "code",
   "execution_count": 14,
   "id": "0bf55785",
   "metadata": {
    "ExecuteTime": {
     "end_time": "2022-06-02T18:43:49.826502Z",
     "start_time": "2022-06-02T18:43:49.810544Z"
    }
   },
   "outputs": [
    {
     "ename": "SyntaxError",
     "evalue": "invalid syntax (1192641181.py, line 1)",
     "output_type": "error",
     "traceback": [
      "\u001b[1;36m  Input \u001b[1;32mIn [14]\u001b[1;36m\u001b[0m\n\u001b[1;33m    Adicione os seguinte filtros no Mapa: - Tamanho mínimo da área da sala de estar. - Número\u001b[0m\n\u001b[1;37m             ^\u001b[0m\n\u001b[1;31mSyntaxError\u001b[0m\u001b[1;31m:\u001b[0m invalid syntax\n"
     ]
    }
   ],
   "source": [
    "Adicione os seguinte filtros no Mapa: - Tamanho mínimo da área da sala de estar. - Número\n",
    "mínimo de banheiros. - Valor Máximo do Preço. - Tamanho máximo da área do porão. -\n",
    "Filtro das Condições do Imóvel. - Filtro por Ano de Construção."
   ]
  },
  {
   "cell_type": "code",
   "execution_count": 15,
   "id": "863f51ca",
   "metadata": {
    "ExecuteTime": {
     "end_time": "2022-06-02T18:43:50.340400Z",
     "start_time": "2022-06-02T18:43:50.307289Z"
    }
   },
   "outputs": [
    {
     "ename": "NameError",
     "evalue": "name 'house' is not defined",
     "output_type": "error",
     "traceback": [
      "\u001b[1;31m---------------------------------------------------------------------------\u001b[0m",
      "\u001b[1;31mNameError\u001b[0m                                 Traceback (most recent call last)",
      "Input \u001b[1;32mIn [15]\u001b[0m, in \u001b[0;36m<cell line: 1>\u001b[1;34m()\u001b[0m\n\u001b[1;32m----> 1\u001b[0m house[\u001b[38;5;124m'\u001b[39m\u001b[38;5;124mlevel\u001b[39m\u001b[38;5;124m'\u001b[39m]\u001b[38;5;241m=\u001b[39m \u001b[43mhouse\u001b[49m [\u001b[38;5;124m'\u001b[39m\u001b[38;5;124mlevel\u001b[39m\u001b[38;5;124m'\u001b[39m]\u001b[38;5;241m.\u001b[39mastype(\u001b[38;5;28mint\u001b[39m)\n\u001b[0;32m      3\u001b[0m fig\u001b[38;5;241m=\u001b[39m px\u001b[38;5;241m.\u001b[39mscatter_mapbox (house,\n\u001b[0;32m      4\u001b[0m                         lat\u001b[38;5;241m=\u001b[39m\u001b[38;5;124m'\u001b[39m\u001b[38;5;124mlat\u001b[39m\u001b[38;5;124m'\u001b[39m,\n\u001b[0;32m      5\u001b[0m                         lon\u001b[38;5;241m=\u001b[39m\u001b[38;5;124m'\u001b[39m\u001b[38;5;124mlong\u001b[39m\u001b[38;5;124m'\u001b[39m,\n\u001b[1;32m   (...)\u001b[0m\n\u001b[0;32m      9\u001b[0m                         size_max\u001b[38;5;241m=\u001b[39m\u001b[38;5;241m15\u001b[39m,\n\u001b[0;32m     10\u001b[0m                         zoom\u001b[38;5;241m=\u001b[39m\u001b[38;5;241m10\u001b[39m)\n\u001b[0;32m     12\u001b[0m fig\u001b[38;5;241m.\u001b[39mupdate_layout (mapbox_style \u001b[38;5;241m=\u001b[39m \u001b[38;5;124m'\u001b[39m\u001b[38;5;124mopen-street-map\u001b[39m\u001b[38;5;124m'\u001b[39m)\n",
      "\u001b[1;31mNameError\u001b[0m: name 'house' is not defined"
     ]
    }
   ],
   "source": [
    "house['level']= house ['level'].astype(int)\n",
    "\n",
    "fig= px.scatter_mapbox (house,\n",
    "                        lat='lat',\n",
    "                        lon='long',\n",
    "                        color='level',\n",
    "                        size='price',\n",
    "                        color_continuous_scale=px.colors.cyclical.IceFire,\n",
    "                        size_max=15,\n",
    "                        zoom=10)\n",
    "\n",
    "fig.update_layout (mapbox_style = 'open-street-map')\n",
    "fig.update_layout (height= 600, margin = {'r':0,'t':0,'l':0,'b':0})"
   ]
  },
  {
   "cell_type": "markdown",
   "id": "94fca727",
   "metadata": {},
   "source": [
    "# questão 5"
   ]
  },
  {
   "cell_type": "code",
   "execution_count": null,
   "id": "488ca009",
   "metadata": {},
   "outputs": [],
   "source": [
    ". Adicione os seguinte filtros no Dashboard: - Filtro por data disponível para compra. - Filtro\n",
    "por ano de renovação. - Filtro se possui vista para a água ou não."
   ]
  },
  {
   "cell_type": "code",
   "execution_count": null,
   "id": "76e8e2ae",
   "metadata": {},
   "outputs": [],
   "source": []
  },
  {
   "cell_type": "code",
   "execution_count": null,
   "id": "c82555cd",
   "metadata": {},
   "outputs": [],
   "source": []
  },
  {
   "cell_type": "code",
   "execution_count": null,
   "id": "7c9e694c",
   "metadata": {},
   "outputs": [],
   "source": []
  }
 ],
 "metadata": {
  "kernelspec": {
   "display_name": "Python 3 (ipykernel)",
   "language": "python",
   "name": "python3"
  },
  "language_info": {
   "codemirror_mode": {
    "name": "ipython",
    "version": 3
   },
   "file_extension": ".py",
   "mimetype": "text/x-python",
   "name": "python",
   "nbconvert_exporter": "python",
   "pygments_lexer": "ipython3",
   "version": "3.9.12"
  }
 },
 "nbformat": 4,
 "nbformat_minor": 5
}
