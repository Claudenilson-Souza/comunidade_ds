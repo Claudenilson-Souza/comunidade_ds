{
 "cells": [
  {
   "cell_type": "code",
   "execution_count": 53,
   "id": "9bcc00d9",
   "metadata": {
    "ExecuteTime": {
     "end_time": "2022-06-08T18:21:24.585892Z",
     "start_time": "2022-06-08T18:21:24.579877Z"
    }
   },
   "outputs": [],
   "source": [
    "import pandas as pd\n",
    "from matplotlib import pyplot as plt\n",
    "from matplotlib import gridspec\n",
    "import plotly.express as px\n",
    "import seaborn as sns\n",
    "import time\n",
    "from multiprocessing import Pool\n",
    "import numpy as np\n",
    "\n",
    "pd.set_option('display.float_format',lambda x: '%.2f' % x)\n",
    "\n",
    "\n"
   ]
  },
  {
   "cell_type": "code",
   "execution_count": 54,
   "id": "1931cf3c",
   "metadata": {
    "ExecuteTime": {
     "end_time": "2022-06-08T18:21:25.405476Z",
     "start_time": "2022-06-08T18:21:24.907767Z"
    },
    "scrolled": true
   },
   "outputs": [],
   "source": [
    "data = pd.read_csv('dataset\\kc_house_data.csv')\n",
    "\n",
    "\n",
    "data['date'] = pd.to_datetime(data['date'])\n",
    "\n",
    "data['season'] = 'NA'\n",
    "\n",
    "data['season'] = data['date'].apply( lambda x: \n",
    "                                    'smr' if ((x.month >= 6) and (x.month <=8 )) else # smr = summer\n",
    "                                    'aut' if ((x.month >= 9) and (x.month <=11 )) else #aut = autumn\n",
    "                                    'win' if ((x.month == 12) or (x.month <=2 ) )#win = winter                                 \n",
    "                                    else 'spr' ) #spr = spring\n",
    "\n",
    "df= data[['zipcode','price']].groupby('zipcode').median().reset_index()\n",
    "df.columns=['zipcode','median_price']\n",
    "\n",
    "df1=pd.merge(data,df, on='zipcode',how='inner').reset_index()\n",
    "\n",
    "df1[['price','median_price']]\n",
    "\n",
    "df1['status'] = df1.apply( lambda x: \n",
    "                         'compra'  if (x['price'] < x ['median_price']) & (x['condition'] >=3) & (x['waterfront']==1)\n",
    "                          else 'não_compra', axis=1 )\n",
    "\n",
    "df2=df1[['id','zipcode','price','median_price','condition','status']]\n",
    "\n",
    "#for i in range (len(df1)):\n",
    "#    if (df1.loc [i,'price'] < df1.loc [i,'median_price']) and (df1.loc [i,'condition'] >=2):\n",
    "#        df1.loc[i,'status'] = 'compra'\n",
    "#    else:\n",
    "#        df1.loc[i,'status'] = 'nao_compra'\n"
   ]
  },
  {
   "cell_type": "markdown",
   "id": "1d018b06",
   "metadata": {},
   "source": [
    "#- Agrupar os\n",
    "#imóveis por região ( zipcode ) e por\n",
    "#sazonalidade ( Summer, Inter ) -- e tamanho \n",
    "#- Vou sugerir os imóveis que estão\n",
    "#abaixo do preço mediano da região e que estejam e boas\n",
    "#condições e vista para água."
   ]
  },
  {
   "cell_type": "code",
   "execution_count": 55,
   "id": "cb199f7f",
   "metadata": {
    "ExecuteTime": {
     "end_time": "2022-06-08T18:21:26.143052Z",
     "start_time": "2022-06-08T18:21:25.723759Z"
    }
   },
   "outputs": [],
   "source": [
    "df1['sell_price'] = df1.apply( lambda x: \n",
    "                         x['price']+(x['price']*0.30)  if x['price'] < x ['median_price']\n",
    "                          else x['price']+(x['price']*0.10), axis=1 )"
   ]
  },
  {
   "cell_type": "code",
   "execution_count": 56,
   "id": "fa061fff",
   "metadata": {
    "ExecuteTime": {
     "end_time": "2022-06-08T18:21:28.563173Z",
     "start_time": "2022-06-08T18:21:26.764751Z"
    }
   },
   "outputs": [],
   "source": [
    "for i in range (len(df1)):\n",
    "    if 1==1:\n",
    "        df1.loc[i,'profit'] = df1.loc[i,'sell_price'] - df1.loc[i,'price'] \n",
    "  "
   ]
  },
  {
   "cell_type": "code",
   "execution_count": 57,
   "id": "cd4bbc7a",
   "metadata": {
    "ExecuteTime": {
     "end_time": "2022-06-08T18:21:28.594272Z",
     "start_time": "2022-06-08T18:21:28.566061Z"
    }
   },
   "outputs": [
    {
     "name": "stderr",
     "output_type": "stream",
     "text": [
      "C:\\Users\\User\\AppData\\Local\\Temp\\ipykernel_7072\\4158019982.py:3: SettingWithCopyWarning: \n",
      "A value is trying to be set on a copy of a slice from a DataFrame\n",
      "\n",
      "See the caveats in the documentation: https://pandas.pydata.org/pandas-docs/stable/user_guide/indexing.html#returning-a-view-versus-a-copy\n",
      "  df3.rename(columns={'price': 'buy_price'}, inplace = True)\n"
     ]
    }
   ],
   "source": [
    "df3=df1[['id','zipcode','season','median_price','price','sell_price','profit']]\n",
    "\n",
    "df3.rename(columns={'price': 'buy_price'}, inplace = True)\n",
    "\n",
    "#df3[['id','zipcode','season','median_price','buy_price','sell_price','profit']]"
   ]
  },
  {
   "cell_type": "code",
   "execution_count": 58,
   "id": "2722727b",
   "metadata": {
    "ExecuteTime": {
     "end_time": "2022-06-08T18:21:28.610123Z",
     "start_time": "2022-06-08T18:21:28.597158Z"
    }
   },
   "outputs": [
    {
     "data": {
      "text/html": [
       "<div>\n",
       "<style scoped>\n",
       "    .dataframe tbody tr th:only-of-type {\n",
       "        vertical-align: middle;\n",
       "    }\n",
       "\n",
       "    .dataframe tbody tr th {\n",
       "        vertical-align: top;\n",
       "    }\n",
       "\n",
       "    .dataframe thead th {\n",
       "        text-align: right;\n",
       "    }\n",
       "</style>\n",
       "<table border=\"1\" class=\"dataframe\">\n",
       "  <thead>\n",
       "    <tr style=\"text-align: right;\">\n",
       "      <th></th>\n",
       "      <th>id</th>\n",
       "      <th>zipcode</th>\n",
       "      <th>season</th>\n",
       "      <th>median_price</th>\n",
       "      <th>buy_price</th>\n",
       "      <th>sell_price</th>\n",
       "      <th>profit</th>\n",
       "    </tr>\n",
       "  </thead>\n",
       "  <tbody>\n",
       "    <tr>\n",
       "      <th>0</th>\n",
       "      <td>7129300520</td>\n",
       "      <td>98178</td>\n",
       "      <td>aut</td>\n",
       "      <td>278277.00</td>\n",
       "      <td>221900.00</td>\n",
       "      <td>288470.00</td>\n",
       "      <td>66570.00</td>\n",
       "    </tr>\n",
       "    <tr>\n",
       "      <th>1</th>\n",
       "      <td>4060000240</td>\n",
       "      <td>98178</td>\n",
       "      <td>smr</td>\n",
       "      <td>278277.00</td>\n",
       "      <td>205425.00</td>\n",
       "      <td>267052.50</td>\n",
       "      <td>61627.50</td>\n",
       "    </tr>\n",
       "    <tr>\n",
       "      <th>2</th>\n",
       "      <td>4058801670</td>\n",
       "      <td>98178</td>\n",
       "      <td>smr</td>\n",
       "      <td>278277.00</td>\n",
       "      <td>445000.00</td>\n",
       "      <td>489500.00</td>\n",
       "      <td>44500.00</td>\n",
       "    </tr>\n",
       "    <tr>\n",
       "      <th>3</th>\n",
       "      <td>2976800796</td>\n",
       "      <td>98178</td>\n",
       "      <td>aut</td>\n",
       "      <td>278277.00</td>\n",
       "      <td>236000.00</td>\n",
       "      <td>306800.00</td>\n",
       "      <td>70800.00</td>\n",
       "    </tr>\n",
       "    <tr>\n",
       "      <th>4</th>\n",
       "      <td>6874200960</td>\n",
       "      <td>98178</td>\n",
       "      <td>win</td>\n",
       "      <td>278277.00</td>\n",
       "      <td>170000.00</td>\n",
       "      <td>221000.00</td>\n",
       "      <td>51000.00</td>\n",
       "    </tr>\n",
       "  </tbody>\n",
       "</table>\n",
       "</div>"
      ],
      "text/plain": [
       "           id  zipcode season  median_price  buy_price  sell_price   profit\n",
       "0  7129300520    98178    aut     278277.00  221900.00   288470.00 66570.00\n",
       "1  4060000240    98178    smr     278277.00  205425.00   267052.50 61627.50\n",
       "2  4058801670    98178    smr     278277.00  445000.00   489500.00 44500.00\n",
       "3  2976800796    98178    aut     278277.00  236000.00   306800.00 70800.00\n",
       "4  6874200960    98178    win     278277.00  170000.00   221000.00 51000.00"
      ]
     },
     "execution_count": 58,
     "metadata": {},
     "output_type": "execute_result"
    }
   ],
   "source": [
    "df3.head()"
   ]
  },
  {
   "cell_type": "markdown",
   "id": "623cd94e",
   "metadata": {
    "ExecuteTime": {
     "end_time": "2022-05-26T13:55:02.151254Z",
     "start_time": "2022-05-26T13:55:02.132305Z"
    }
   },
   "source": [
    "# cod | regiao | temporada | preço medio | preco compra | preco venda | lucro"
   ]
  },
  {
   "cell_type": "code",
   "execution_count": 59,
   "id": "cf996f82",
   "metadata": {
    "ExecuteTime": {
     "end_time": "2022-06-08T18:21:30.975392Z",
     "start_time": "2022-06-08T18:21:30.956415Z"
    }
   },
   "outputs": [
    {
     "data": {
      "text/plain": [
       "Index(['id', 'date', 'price', 'bedrooms', 'bathrooms', 'sqft_living',\n",
       "       'sqft_lot', 'floors', 'waterfront', 'view', 'condition', 'grade',\n",
       "       'sqft_above', 'sqft_basement', 'yr_built', 'yr_renovated', 'zipcode',\n",
       "       'lat', 'long', 'sqft_living15', 'sqft_lot15', 'season'],\n",
       "      dtype='object')"
      ]
     },
     "execution_count": 59,
     "metadata": {},
     "output_type": "execute_result"
    }
   ],
   "source": [
    "data.columns"
   ]
  },
  {
   "cell_type": "code",
   "execution_count": 60,
   "id": "25b62039",
   "metadata": {
    "ExecuteTime": {
     "end_time": "2022-06-08T18:21:31.597491Z",
     "start_time": "2022-06-08T18:21:31.588515Z"
    }
   },
   "outputs": [],
   "source": [
    "#H1: Imóveis que possuem vista para água, são 30% mais caros, na média"
   ]
  },
  {
   "cell_type": "code",
   "execution_count": 61,
   "id": "0b8ee39a",
   "metadata": {
    "ExecuteTime": {
     "end_time": "2022-06-08T18:21:32.081643Z",
     "start_time": "2022-06-08T18:21:32.068673Z"
    }
   },
   "outputs": [
    {
     "name": "stdout",
     "output_type": "stream",
     "text": [
      "As casas que possuem vista para agua são 31 % mais caros na média do que as que não possuem vista para agua \n"
     ]
    }
   ],
   "source": [
    "houses=data[['waterfront','price']].groupby('waterfront').mean().reset_index()\n",
    "y=houses.loc[0,'price']*0.30\n",
    "\n",
    "if (houses.loc[0,'price']+y) < houses.loc[1,'price']: \n",
    "    x=  int(( houses.loc[0,'price'] * 100) /houses.loc[1,'price']  )\n",
    "    \n",
    "    print(\"As casas que possuem vista para agua são {} % mais caros na média do que as que não possuem vista para agua \".format(x))\n",
    "else:\n",
    "     print(\"As casas que não possuem vista para agua são mais caros (ou iguais) na média do que as que possuem vista para agua \")    \n",
    "\n",
    "      \n",
    " "
   ]
  },
  {
   "cell_type": "code",
   "execution_count": 62,
   "id": "4f9fe88a",
   "metadata": {
    "ExecuteTime": {
     "end_time": "2022-06-08T18:21:33.748427Z",
     "start_time": "2022-06-08T18:21:33.740420Z"
    }
   },
   "outputs": [],
   "source": [
    "# H2: Imóveis com data de construção menor que 1955, são\n",
    "# 50% mais baratos, na média."
   ]
  },
  {
   "cell_type": "code",
   "execution_count": 63,
   "id": "c12bf6ea",
   "metadata": {
    "ExecuteTime": {
     "end_time": "2022-06-08T18:21:34.167904Z",
     "start_time": "2022-06-08T18:21:34.147929Z"
    }
   },
   "outputs": [],
   "source": [
    "houses=data[['yr_built','price']].groupby('yr_built').mean().reset_index()\n"
   ]
  },
  {
   "cell_type": "code",
   "execution_count": 70,
   "id": "3d30630f",
   "metadata": {
    "ExecuteTime": {
     "end_time": "2022-06-08T18:25:14.809670Z",
     "start_time": "2022-06-08T18:25:14.796664Z"
    }
   },
   "outputs": [
    {
     "name": "stdout",
     "output_type": "stream",
     "text": [
      "8248.616751117734   12455.494391716999\n",
      "as casas construidas antes de 1955 são 50% (ou mais) baratas que as construidas apos 1955\n",
      "as mais novas sao 51% mais caras \n"
     ]
    }
   ],
   "source": [
    "cont=0\n",
    "cont1=0\n",
    "for i in range (len(houses)):\n",
    "    if houses.loc[i,'yr_built'] < 1955:\n",
    "            x = houses.loc[i,'price']\n",
    "            cont=cont+1      \n",
    "    if houses.loc[i,'yr_built'] >= 1955:        \n",
    "            x1 = houses.loc[i,'price']\n",
    "            cont1=cont1+1\n",
    "\n",
    "x=  x/cont\n",
    "x1= x1/cont1\n",
    "print(x, \" \", x1)\n",
    "    \n",
    "if x < x1*0.5:\n",
    "    print(\"as casas construidas antes de 1955 são 50% (ou mais) baratas que as construidas apos 1955\")\n",
    "else:\n",
    "    print(\"as casas construidas antes de 1955 são 50% (ou mais) baratas que as construidas apos 1955\")\n",
    "\n",
    "x= x= int(((x1 - x) *100)/x)\n",
    "\n",
    "print(\"as mais novas sao {}% mais caras \".format(x))\n",
    "                "
   ]
  },
  {
   "cell_type": "code",
   "execution_count": 65,
   "id": "32534f6a",
   "metadata": {
    "ExecuteTime": {
     "end_time": "2022-06-08T18:21:38.028969Z",
     "start_time": "2022-06-08T18:21:38.012013Z"
    }
   },
   "outputs": [],
   "source": [
    "# H3: Imóveis sem porão possuem sqrt_lot, são 50%\n",
    "# maiores do que com porão."
   ]
  },
  {
   "cell_type": "code",
   "execution_count": 66,
   "id": "86203804",
   "metadata": {
    "ExecuteTime": {
     "end_time": "2022-06-08T18:21:38.431104Z",
     "start_time": "2022-06-08T18:21:38.412185Z"
    }
   },
   "outputs": [
    {
     "data": {
      "text/plain": [
       "Index(['id', 'date', 'price', 'bedrooms', 'bathrooms', 'sqft_living',\n",
       "       'sqft_lot', 'floors', 'waterfront', 'view', 'condition', 'grade',\n",
       "       'sqft_above', 'sqft_basement', 'yr_built', 'yr_renovated', 'zipcode',\n",
       "       'lat', 'long', 'sqft_living15', 'sqft_lot15', 'season'],\n",
       "      dtype='object')"
      ]
     },
     "execution_count": 66,
     "metadata": {},
     "output_type": "execute_result"
    }
   ],
   "source": [
    "data.columns"
   ]
  },
  {
   "cell_type": "code",
   "execution_count": 72,
   "id": "ca77815c",
   "metadata": {
    "ExecuteTime": {
     "end_time": "2022-06-08T18:26:01.561036Z",
     "start_time": "2022-06-08T18:26:01.549075Z"
    }
   },
   "outputs": [],
   "source": [
    "houses=data[['sqft_lot','sqft_basement']].groupby('sqft_basement').mean().reset_index()"
   ]
  },
  {
   "cell_type": "code",
   "execution_count": 73,
   "id": "171d257c",
   "metadata": {
    "ExecuteTime": {
     "end_time": "2022-06-08T18:26:02.281900Z",
     "start_time": "2022-06-08T18:26:02.253033Z"
    }
   },
   "outputs": [
    {
     "name": "stdout",
     "output_type": "stream",
     "text": [
      "16284.176824622886   42.84590163934426\n",
      "37906\n",
      "os que possuem poram são 37906% maiores \n"
     ]
    }
   ],
   "source": [
    "cont1=0\n",
    "for i in range (len(houses)):\n",
    "    if houses.loc[i,'sqft_basement'] == 0:\n",
    "            x = houses.loc[i,'sqft_lot']              \n",
    "    if houses.loc[i,'sqft_basement'] > 0:        \n",
    "            x1 = houses.loc[i,'sqft_lot']\n",
    "            cont1=cont1+1\n",
    "x=  x\n",
    "x1= x1/cont1\n",
    "\n",
    "print(x, \" \", x1)\n",
    "    \n",
    "if x < x1*0.5:\n",
    "    print(\"as que não possuem poram são 50%(ou mais) maiores na média do que as que possuem\")\n",
    "else:   \n",
    "    x= int(((x - x1) *100)/x1)\n",
    "    print(x)\n",
    "  \n",
    "    print(\"os que possuem poram são {}% maiores \".format(x))"
   ]
  },
  {
   "cell_type": "markdown",
   "id": "5d3fb739",
   "metadata": {
    "ExecuteTime": {
     "end_time": "2022-06-02T13:08:06.793967Z",
     "start_time": "2022-06-02T13:08:06.780756Z"
    }
   },
   "source": [
    "# H4: o crescimento do preço dos imóveis yoy (year over year) é de 10%"
   ]
  },
  {
   "cell_type": "code",
   "execution_count": 17,
   "id": "c7a20bb5",
   "metadata": {
    "ExecuteTime": {
     "end_time": "2022-06-08T17:54:00.167516Z",
     "start_time": "2022-06-08T17:54:00.152556Z"
    }
   },
   "outputs": [],
   "source": [
    "houses=data[['price','date']].reset_index()"
   ]
  },
  {
   "cell_type": "code",
   "execution_count": 18,
   "id": "54ed6b13",
   "metadata": {
    "ExecuteTime": {
     "end_time": "2022-06-08T17:54:04.397398Z",
     "start_time": "2022-06-08T17:54:00.275229Z"
    }
   },
   "outputs": [],
   "source": [
    "for i in range (len(houses)):\n",
    "        if 1 == 1 :\n",
    "            houses.loc[i,'year']=houses.loc[i,'date'].year\n",
    "            houses.loc[i,'month']=houses.loc[i,'date'].month"
   ]
  },
  {
   "cell_type": "code",
   "execution_count": 19,
   "id": "443a35c0",
   "metadata": {
    "ExecuteTime": {
     "end_time": "2022-06-08T17:54:04.413166Z",
     "start_time": "2022-06-08T17:54:04.399203Z"
    }
   },
   "outputs": [],
   "source": [
    "a = houses['year'].unique"
   ]
  },
  {
   "cell_type": "code",
   "execution_count": 20,
   "id": "1e9df25e",
   "metadata": {
    "ExecuteTime": {
     "end_time": "2022-06-08T17:54:04.429122Z",
     "start_time": "2022-06-08T17:54:04.414163Z"
    }
   },
   "outputs": [
    {
     "name": "stdout",
     "output_type": "stream",
     "text": [
      "<bound method Series.unique of 0       2014.00\n",
      "1       2014.00\n",
      "2       2015.00\n",
      "3       2014.00\n",
      "4       2015.00\n",
      "          ...  \n",
      "21608   2014.00\n",
      "21609   2015.00\n",
      "21610   2014.00\n",
      "21611   2015.00\n",
      "21612   2014.00\n",
      "Name: year, Length: 21613, dtype: float64>\n"
     ]
    }
   ],
   "source": [
    "print(a)"
   ]
  },
  {
   "cell_type": "code",
   "execution_count": 51,
   "id": "adc68a40",
   "metadata": {
    "ExecuteTime": {
     "end_time": "2022-06-08T18:20:08.639065Z",
     "start_time": "2022-06-08T18:20:05.653023Z"
    },
    "code_folding": [],
    "scrolled": true
   },
   "outputs": [
    {
     "name": "stdout",
     "output_type": "stream",
     "text": [
      "as casas mais novas são 2% mais caras \n"
     ]
    }
   ],
   "source": [
    "casa=pd.DataFrame()\n",
    "casa1=pd.DataFrame()\n",
    "for a in range (len(houses)):\n",
    "    \n",
    "    if(houses.loc[a,'date'].year == 2015) and (houses.loc[a,'date'].month == 4):\n",
    "        casa.loc[a,'month']=houses.loc[a,'date'].month\n",
    "        casa.loc[a,'year']=houses.loc[a,'date'].year\n",
    "        casa.loc[a,'price']=houses.loc[a,'price']\n",
    "\n",
    "    if(houses.loc[a,'date'].year == 2015-1) and (houses.loc[a,'date'].month == 5):\n",
    "        casa1.loc[a,'month']=houses.loc[a,'date'].month\n",
    "        casa1.loc[a,'year']=houses.loc[a,'date'].year\n",
    "        casa1.loc[a,'price']=houses.loc[a,'price']\n",
    "\n",
    "casa=casa[['price','year']].groupby('year').mean().reset_index()\n",
    "casa1=casa1[['price','year']].groupby('year').mean().reset_index()\n",
    "\n",
    "if casa.loc[0,'price'] > casa1.loc[0,'price']:\n",
    "    x= (int(((casa['price']-casa1['price']) *100)/(casa1['price'])))\n",
    "    print(\"as casas mais novas são {}% mais caras \".format(x))\n",
    "\n",
    "if casa.loc[0,'price'] < casa1.loc[0,'price']:\n",
    "    x= (int(((casa1['price']-casa['price']) *100)/(casa['price'])))\n",
    "    print(\"as casas mais velhas são {}% mais caras \".format(x))\n"
   ]
  },
  {
   "cell_type": "markdown",
   "id": "1a1ed870",
   "metadata": {
    "ExecuteTime": {
     "end_time": "2022-06-08T18:07:48.259703Z",
     "start_time": "2022-06-08T18:07:48.251701Z"
    }
   },
   "source": [
    "w = pd.concat([casa,casa1]).reset_index()"
   ]
  },
  {
   "cell_type": "code",
   "execution_count": 48,
   "id": "9b245488",
   "metadata": {
    "ExecuteTime": {
     "end_time": "2022-06-08T18:09:48.598682Z",
     "start_time": "2022-06-08T18:09:48.587682Z"
    }
   },
   "outputs": [
    {
     "name": "stdout",
     "output_type": "stream",
     "text": [
      "     year     price\n",
      "0 2015.00 561837.77\n",
      "     year     price\n",
      "0 2014.00 548080.28\n"
     ]
    }
   ],
   "source": [
    "print (casa)\n",
    "print (casa1)"
   ]
  },
  {
   "cell_type": "code",
   "execution_count": 47,
   "id": "e44849fd",
   "metadata": {
    "ExecuteTime": {
     "end_time": "2022-06-08T18:08:29.215378Z",
     "start_time": "2022-06-08T18:08:29.124665Z"
    },
    "scrolled": true
   },
   "outputs": [
    {
     "data": {
      "image/png": "[encoded data removed]",
      "text/plain": [
       "<Figure size 432x288 with 1 Axes>"
      ]
     },
     "metadata": {
      "needs_background": "light"
     },
     "output_type": "display_data"
    }
   ],
   "source": [
    "ax = sns.barplot(x=\"year\", y=\"price\", data=w)"
   ]
  },
  {
   "cell_type": "code",
   "execution_count": null,
   "id": "19ee0d0d",
   "metadata": {},
   "outputs": [],
   "source": []
  },
  {
   "cell_type": "code",
   "execution_count": null,
   "id": "be13f471",
   "metadata": {},
   "outputs": [],
   "source": []
  },
  {
   "cell_type": "markdown",
   "id": "593cb5e2",
   "metadata": {},
   "source": [
    "# H5: Imóveis com 3 banheiros tem um crescimento MoM ( Month over Month ) de 15%"
   ]
  },
  {
   "cell_type": "code",
   "execution_count": null,
   "id": "4a0ff0da",
   "metadata": {},
   "outputs": [],
   "source": []
  },
  {
   "cell_type": "code",
   "execution_count": null,
   "id": "5ab765d7",
   "metadata": {},
   "outputs": [],
   "source": []
  }
 ],
 "metadata": {
  "kernelspec": {
   "display_name": "Python 3 (ipykernel)",
   "language": "python",
   "name": "python3"
  },
  "language_info": {
   "codemirror_mode": {
    "name": "ipython",
    "version": 3
   },
   "file_extension": ".py",
   "mimetype": "text/x-python",
   "name": "python",
   "nbconvert_exporter": "python",
   "pygments_lexer": "ipython3",
   "version": "3.9.12"
  }
 },
 "nbformat": 4,
 "nbformat_minor": 5
}
